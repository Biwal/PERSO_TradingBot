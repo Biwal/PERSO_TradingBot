{
 "cells": [
  {
   "cell_type": "code",
   "execution_count": 1,
   "metadata": {},
   "outputs": [],
   "source": [
    "import pandas as pd"
   ]
  },
  {
   "cell_type": "code",
   "execution_count": 25,
   "metadata": {},
   "outputs": [],
   "source": [
    "filepath = 'data/eurusd_hour.csv'\n",
    "\n",
    "data = pd.read_csv(filepath_or_buffer=filepath, encoding='utf-8', parse_dates=[\"Date\"])"
   ]
  },
  {
   "cell_type": "code",
   "execution_count": 26,
   "metadata": {},
   "outputs": [
    {
     "name": "stdout",
     "output_type": "stream",
     "text": [
      "        Date   Time      BO      BH      BL      BC     BCh      AO      AH  \\\n",
      "0 2005-05-02  00:00  1.2852  1.2852  1.2840  1.2844 -0.0008  1.2854  1.2854   \n",
      "1 2005-05-02  01:00  1.2844  1.2848  1.2839  1.2842 -0.0002  1.2846  1.2850   \n",
      "2 2005-05-02  02:00  1.2843  1.2854  1.2841  1.2851  0.0008  1.2845  1.2856   \n",
      "3 2005-05-02  03:00  1.2851  1.2859  1.2850  1.2851  0.0000  1.2853  1.2861   \n",
      "4 2005-05-02  04:00  1.2852  1.2859  1.2849  1.2855  0.0003  1.2854  1.2861   \n",
      "\n",
      "       AL      AC     ACh  \n",
      "0  1.2842  1.2846 -0.0008  \n",
      "1  1.2841  1.2844 -0.0002  \n",
      "2  1.2843  1.2853  0.0008  \n",
      "3  1.2852  1.2853  0.0000  \n",
      "4  1.2851  1.2857  0.0003  \n",
      "93084\n",
      "<class 'pandas.core.frame.DataFrame'>\n",
      "RangeIndex: 93084 entries, 0 to 93083\n",
      "Data columns (total 12 columns):\n",
      " #   Column  Non-Null Count  Dtype         \n",
      "---  ------  --------------  -----         \n",
      " 0   Date    93084 non-null  datetime64[ns]\n",
      " 1   Time    93084 non-null  object        \n",
      " 2   BO      93084 non-null  float64       \n",
      " 3   BH      93084 non-null  float64       \n",
      " 4   BL      93084 non-null  float64       \n",
      " 5   BC      93084 non-null  float64       \n",
      " 6   BCh     93084 non-null  float64       \n",
      " 7   AO      93084 non-null  float64       \n",
      " 8   AH      93084 non-null  float64       \n",
      " 9   AL      93084 non-null  float64       \n",
      " 10  AC      93084 non-null  float64       \n",
      " 11  ACh     93084 non-null  float64       \n",
      "dtypes: datetime64[ns](1), float64(10), object(1)\n",
      "memory usage: 8.5+ MB\n",
      "None\n"
     ]
    }
   ],
   "source": [
    "print(data.head())\n",
    "print(data.shape[0])\n",
    "# pd.to_datetime(data)\n",
    "print(data.info())"
   ]
  },
  {
   "cell_type": "code",
   "execution_count": 31,
   "metadata": {},
   "outputs": [
    {
     "name": "stdout",
     "output_type": "stream",
     "text": [
      "60223\n",
      "32861\n"
     ]
    }
   ],
   "source": [
    "train = data.query('(\"2005-01-01\" <= Date < \"2015-01-01\")').copy()\n",
    "test = data.query('(\"2015-01-01\" <= Date < \"2021-01-01\")').copy()\n",
    "print(train.shape[0])\n",
    "print(test.shape[0])\n",
    "assert data.shape[0] == (train.shape[0] + test.shape[0])\n",
    "# 2005-05-02\n",
    "# 2020-04-29"
   ]
  },
  {
   "cell_type": "code",
   "execution_count": 1,
   "metadata": {},
   "outputs": [],
   "source": [
    "from classes.EnvFactory import EnvFactory"
   ]
  },
  {
   "cell_type": "code",
   "execution_count": 2,
   "metadata": {},
   "outputs": [
    {
     "name": "stdout",
     "output_type": "stream",
     "text": [
      "60223\n",
      "32861\n"
     ]
    }
   ],
   "source": [
    "train, test = EnvFactory().DL.dataset_train_test\n",
    "print(train.shape[0])\n",
    "print(test.shape[0])"
   ]
  },
  {
   "cell_type": "code",
   "execution_count": 8,
   "metadata": {},
   "outputs": [],
   "source": [
    "from collections import deque\n",
    "hist_reward = deque()\n",
    "\n",
    "hist_reward.append(0)\n",
    "hist_reward.append(1)\n",
    "hist_reward.append(2)"
   ]
  },
  {
   "cell_type": "code",
   "execution_count": 10,
   "metadata": {},
   "outputs": [
    {
     "data": {
      "text/html": [
       "<div>\n",
       "<style scoped>\n",
       "    .dataframe tbody tr th:only-of-type {\n",
       "        vertical-align: middle;\n",
       "    }\n",
       "\n",
       "    .dataframe tbody tr th {\n",
       "        vertical-align: top;\n",
       "    }\n",
       "\n",
       "    .dataframe thead th {\n",
       "        text-align: right;\n",
       "    }\n",
       "</style>\n",
       "<table border=\"1\" class=\"dataframe\">\n",
       "  <thead>\n",
       "    <tr style=\"text-align: right;\">\n",
       "      <th></th>\n",
       "      <th>aze</th>\n",
       "    </tr>\n",
       "  </thead>\n",
       "  <tbody>\n",
       "    <tr>\n",
       "      <th>0</th>\n",
       "      <td>0</td>\n",
       "    </tr>\n",
       "    <tr>\n",
       "      <th>1</th>\n",
       "      <td>1</td>\n",
       "    </tr>\n",
       "    <tr>\n",
       "      <th>2</th>\n",
       "      <td>2</td>\n",
       "    </tr>\n",
       "  </tbody>\n",
       "</table>\n",
       "</div>"
      ],
      "text/plain": [
       "   aze\n",
       "0    0\n",
       "1    1\n",
       "2    2"
      ]
     },
     "execution_count": 10,
     "metadata": {},
     "output_type": "execute_result"
    }
   ],
   "source": [
    "import pandas as pd\n",
    "a = pd.DataFrame({\n",
    "    'aze' : hist_reward\n",
    "})\n",
    "a.head()"
   ]
  },
  {
   "cell_type": "code",
   "execution_count": 16,
   "metadata": {},
   "outputs": [
    {
     "data": {
      "text/plain": [
       "1"
      ]
     },
     "execution_count": 16,
     "metadata": {},
     "output_type": "execute_result"
    }
   ],
   "source": [
    "from classes.ActionScheme import *\n",
    "\n",
    "\n",
    "a= RandomAction().compute_action()\n",
    "a"
   ]
  },
  {
   "cell_type": "code",
   "execution_count": 1,
   "metadata": {},
   "outputs": [],
   "source": [
    "from classes.ForexEnv import ForexEnv\n",
    "import gymnasium as gym "
   ]
  },
  {
   "cell_type": "code",
   "execution_count": 3,
   "metadata": {},
   "outputs": [],
   "source": [
    "gym.register(\n",
    "    id='forexEnv-V0',\n",
    "    entry_point = 'ForexEnv:ForexEnv'\n",
    "\n",
    ")"
   ]
  },
  {
   "cell_type": "code",
   "execution_count": 1,
   "metadata": {},
   "outputs": [],
   "source": [
    "import comet_ml\n",
    "import gymnasium as gym \n",
    "from stable_baselines3 import PPO, A2C, DQN\n",
    "from classes.ForexEnv import ForexEnv\n",
    "from classes.DataLoader import DataLoader\n",
    "from comet_ml.integration.gymnasium import CometLogger"
   ]
  },
  {
   "cell_type": "code",
   "execution_count": 2,
   "metadata": {},
   "outputs": [],
   "source": [
    "data, _ = DataLoader(filepath='data/eurusd_minute.csv').dataset_train_test\n",
    "# data, _ = DataLoader(filepath='data/eurusd_minute.csv').dataset_train_test"
   ]
  },
  {
   "cell_type": "code",
   "execution_count": 3,
   "metadata": {},
   "outputs": [
    {
     "name": "stderr",
     "output_type": "stream",
     "text": [
      "\u001b[1;38;5;214mCOMET WARNING:\u001b[0m As you are running in a Jupyter environment, you will need to call `experiment.end()` when finished to ensure all metrics and code are logged before exiting.\n",
      "\u001b[1;38;5;39mCOMET INFO:\u001b[0m Couldn't find a Git repository in 'c:\\\\env_py\\\\PERSO_TradingBot2' nor in any parent directory. Set `COMET_GIT_DIRECTORY` if your Git Repository is elsewhere.\n",
      "\u001b[1;38;5;39mCOMET INFO:\u001b[0m Experiment is live on comet.com https://www.comet.com/biwal/general/997ae26716d74a77b211d36559001c1f\n",
      "\n",
      "\u001b[1;38;5;39mCOMET INFO:\u001b[0m ---------------------------------------------------------------------------------------\n",
      "\u001b[1;38;5;39mCOMET INFO:\u001b[0m Comet.ml Experiment Summary\n",
      "\u001b[1;38;5;39mCOMET INFO:\u001b[0m ---------------------------------------------------------------------------------------\n",
      "\u001b[1;38;5;39mCOMET INFO:\u001b[0m   Data:\n",
      "\u001b[1;38;5;39mCOMET INFO:\u001b[0m     display_summary_level : 1\n",
      "\u001b[1;38;5;39mCOMET INFO:\u001b[0m     url                   : https://www.comet.com/biwal/general/997ae26716d74a77b211d36559001c1f\n",
      "\u001b[1;38;5;39mCOMET INFO:\u001b[0m   Metrics [count] (min, max):\n",
      "\u001b[1;38;5;39mCOMET INFO:\u001b[0m     episode_length       : 251\n",
      "\u001b[1;38;5;39mCOMET INFO:\u001b[0m     episode_reward [203] : (-28.317293312537004, 8.60360296348199)\n",
      "\u001b[1;38;5;39mCOMET INFO:\u001b[0m     loss [200]           : (0.014114201068878174, 0.5268895626068115)\n",
      "\u001b[1;38;5;39mCOMET INFO:\u001b[0m   Uploads:\n",
      "\u001b[1;38;5;39mCOMET INFO:\u001b[0m     environment details : 1\n",
      "\u001b[1;38;5;39mCOMET INFO:\u001b[0m     filename            : 1\n",
      "\u001b[1;38;5;39mCOMET INFO:\u001b[0m     installed packages  : 1\n",
      "\u001b[1;38;5;39mCOMET INFO:\u001b[0m     notebook            : 1\n",
      "\u001b[1;38;5;39mCOMET INFO:\u001b[0m     source_code         : 1\n",
      "\u001b[1;38;5;39mCOMET INFO:\u001b[0m \n"
     ]
    }
   ],
   "source": [
    "env = ForexEnv(data)\n",
    "\n",
    "experiment = comet_ml.Experiment(\n",
    "  api_key=\"WVdjqWHN6SXFKqIlH5H8SnumS\",\n",
    "  project_name=\"general\",\n",
    "  workspace=\"biwal\"\n",
    ")\n",
    "\n",
    "env = CometLogger(env, experiment)\n",
    "\n",
    "model = PPO(\"MlpPolicy\", env, verbose=0 ,  seed=1,\n",
    "            batch_size=256,\n",
    "            gamma=0.9999,\n",
    "            learning_rate=2.77e-05,\n",
    "            ent_coef=0.00429,\n",
    "            clip_range=0.1,\n",
    "            n_epochs=10,\n",
    "            gae_lambda=0.9,\n",
    "            max_grad_norm=5,\n",
    "            vf_coef=0.19)\n",
    "model.learn(total_timesteps=50_000)\n",
    "\n",
    "env.close()\n",
    "experiment.end()"
   ]
  },
  {
   "cell_type": "code",
   "execution_count": 5,
   "metadata": {},
   "outputs": [
    {
     "name": "stdout",
     "output_type": "stream",
     "text": [
      " - Suivi de la récompense  :\n",
      "        Nombre de récompenses enregistrées : 2000 \n",
      "        Récompense cumulé : -1.901e+01\n",
      "        Récompense moyenne : -0.010 \n",
      "        \n"
     ]
    }
   ],
   "source": [
    "#  Test Model\n",
    "\n",
    "env = ForexEnv(_, episodic=False)\n",
    "obs = env.reset()[0]\n",
    "for i in range(2000):\n",
    "    action, _states = model.predict(obs, deterministic=False)\n",
    "    obs, rewards, terminated, truncated, info = env.step(action)\n",
    "\n",
    "\n",
    "    if terminated:\n",
    "        env.render()\n",
    "        obs = env.reset()[0]\n",
    "env.render()"
   ]
  }
 ],
 "metadata": {
  "kernelspec": {
   "display_name": "ENV",
   "language": "python",
   "name": "python3"
  },
  "language_info": {
   "codemirror_mode": {
    "name": "ipython",
    "version": 3
   },
   "file_extension": ".py",
   "mimetype": "text/x-python",
   "name": "python",
   "nbconvert_exporter": "python",
   "pygments_lexer": "ipython3",
   "version": "3.10.6"
  }
 },
 "nbformat": 4,
 "nbformat_minor": 2
}
